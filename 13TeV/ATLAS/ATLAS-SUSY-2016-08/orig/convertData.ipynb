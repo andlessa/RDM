{
 "cells": [
  {
   "cell_type": "code",
   "execution_count": 1,
   "metadata": {},
   "outputs": [],
   "source": [
    "import numpy as np\n",
    "import os"
   ]
  },
  {
   "cell_type": "markdown",
   "metadata": {},
   "source": [
    "### MLSP = 100 GeV"
   ]
  },
  {
   "cell_type": "code",
   "execution_count": 2,
   "metadata": {},
   "outputs": [
    {
     "name": "stdout",
     "output_type": "stream",
     "text": [
      "227\n"
     ]
    }
   ],
   "source": [
    "#Upper limit map\n",
    "fname = './HEPData-ins1630632-v2-csv/Table19.csv'\n",
    "data = np.genfromtxt(fname,names=True,delimiter=',',skip_header=10)\n",
    "data['Log10Lifetime__ns'] = 6.582e-25/((10**data['Log10Lifetime__ns'])*1e-9)\n",
    "names = list(data.dtype.names)\n",
    "names[0] = 'width_GeV'\n",
    "data.dtype.names = tuple(names)\n",
    "\n",
    "newF = os.path.splitext(os.path.basename(fname))[0]+'_converted.csv'\n",
    "header = ','.join(data.dtype.names)\n",
    "np.savetxt(newF,data,header=header,fmt = '%1.7e',delimiter=',')\n",
    "print(len(data))"
   ]
  },
  {
   "cell_type": "code",
   "execution_count": 3,
   "metadata": {},
   "outputs": [
    {
     "name": "stdout",
     "output_type": "stream",
     "text": [
      "61\n"
     ]
    }
   ],
   "source": [
    "#Observed exclusion curve\n",
    "fname = './HEPData-ins1630632-v2-csv/Table9.csv'\n",
    "data = np.genfromtxt(fname,names=True,delimiter=',',skip_header=10,skip_footer=62)\n",
    "data['Log10Lifetime__ns'] = 6.582e-25/((10**data['Log10Lifetime__ns'])*1e-9)\n",
    "names = list(data.dtype.names)\n",
    "names[0] = 'width_GeV'\n",
    "data.dtype.names = tuple(names)\n",
    "\n",
    "newF = os.path.splitext(os.path.basename(fname))[0]+'_Obs_converted.csv'\n",
    "header = ','.join(data.dtype.names)\n",
    "np.savetxt(newF,data,header=header,fmt = '%1.7e',delimiter=',')\n",
    "print(len(data))"
   ]
  },
  {
   "cell_type": "code",
   "execution_count": 4,
   "metadata": {},
   "outputs": [
    {
     "name": "stdout",
     "output_type": "stream",
     "text": [
      "61\n"
     ]
    }
   ],
   "source": [
    "#Expected exclusion curve\n",
    "fname = './HEPData-ins1630632-v2-csv/Table9.csv'\n",
    "data = np.genfromtxt(fname,names=True,delimiter=',',skip_header=74)\n",
    "data['Log10Lifetime__ns'] = 6.582e-25/((10**data['Log10Lifetime__ns'])*1e-9)\n",
    "names = list(data.dtype.names)\n",
    "names[0] = 'width_GeV'\n",
    "data.dtype.names = tuple(names)\n",
    "\n",
    "newF = os.path.splitext(os.path.basename(fname))[0]+'_Exp_converted.csv'\n",
    "header = ','.join(data.dtype.names)\n",
    "np.savetxt(newF,data,header=header,fmt = '%1.7e',delimiter=',')\n",
    "print(len(data))"
   ]
  },
  {
   "cell_type": "markdown",
   "metadata": {},
   "source": [
    "### MGLUINO-MLSP = 100 GeV"
   ]
  },
  {
   "cell_type": "code",
   "execution_count": 5,
   "metadata": {},
   "outputs": [
    {
     "name": "stdout",
     "output_type": "stream",
     "text": [
      "75\n"
     ]
    }
   ],
   "source": [
    "#Upper limit map\n",
    "fname = './HEPData-ins1630632-v2-csv/Table20.csv'\n",
    "data = np.genfromtxt(fname,names=True,delimiter=',',skip_header=10)\n",
    "data['Log10Lifetime__ns'] = 6.582e-25/((10**data['Log10Lifetime__ns'])*1e-9)\n",
    "names = list(data.dtype.names)\n",
    "names[0] = 'width_GeV'\n",
    "data.dtype.names = tuple(names)\n",
    "\n",
    "newF = os.path.splitext(os.path.basename(fname))[0]+'_converted.csv'\n",
    "header = ','.join(data.dtype.names)\n",
    "np.savetxt(newF,data,header=header,fmt = '%1.7e',delimiter=',')\n",
    "print(len(data))"
   ]
  },
  {
   "cell_type": "code",
   "execution_count": 6,
   "metadata": {},
   "outputs": [
    {
     "name": "stdout",
     "output_type": "stream",
     "text": [
      "54\n"
     ]
    }
   ],
   "source": [
    "#Observed exclusion curve\n",
    "fname = './HEPData-ins1630632-v2-csv/Table12.csv'\n",
    "data = np.genfromtxt(fname,names=True,delimiter=',',skip_header=10,skip_footer=55)\n",
    "data['Log10Lifetime__ns'] = 6.582e-25/((10**data['Log10Lifetime__ns'])*1e-9)\n",
    "names = list(data.dtype.names)\n",
    "names[0] = 'width_GeV'\n",
    "data.dtype.names = tuple(names)\n",
    "\n",
    "newF = os.path.splitext(os.path.basename(fname))[0]+'_Obs_converted.csv'\n",
    "header = ','.join(data.dtype.names)\n",
    "np.savetxt(newF,data,header=header,fmt = '%1.7e',delimiter=',')\n",
    "print(len(data))"
   ]
  },
  {
   "cell_type": "code",
   "execution_count": 7,
   "metadata": {},
   "outputs": [
    {
     "name": "stdout",
     "output_type": "stream",
     "text": [
      "54\n"
     ]
    }
   ],
   "source": [
    "#Expected exclusion curve\n",
    "fname = './HEPData-ins1630632-v2-csv/Table12.csv'\n",
    "data = np.genfromtxt(fname,names=True,delimiter=',',skip_header=67)\n",
    "data['Log10Lifetime__ns'] = 6.582e-25/((10**data['Log10Lifetime__ns'])*1e-9)\n",
    "names = list(data.dtype.names)\n",
    "names[0] = 'width_GeV'\n",
    "data.dtype.names = tuple(names)\n",
    "\n",
    "newF = os.path.splitext(os.path.basename(fname))[0]+'_Exp_converted.csv'\n",
    "header = ','.join(data.dtype.names)\n",
    "np.savetxt(newF,data,header=header,fmt = '%1.7e',delimiter=',')\n",
    "print(len(data))"
   ]
  },
  {
   "cell_type": "markdown",
   "metadata": {},
   "source": [
    "### tau = 1 ns"
   ]
  },
  {
   "cell_type": "code",
   "execution_count": 8,
   "metadata": {},
   "outputs": [
    {
     "name": "stdout",
     "output_type": "stream",
     "text": [
      "21\n"
     ]
    }
   ],
   "source": [
    "#Upper limit map\n",
    "fname = './HEPData-ins1630632-v2-csv/Table21.csv'\n",
    "data = np.genfromtxt(fname,names=True,delimiter=',',skip_header=10)\n",
    "newF = os.path.splitext(os.path.basename(fname))[0]+'_converted.csv'\n",
    "header = ','.join(data.dtype.names)\n",
    "np.savetxt(newF,data,header=header,fmt = '%1.7e',delimiter=',')\n",
    "print(len(data))"
   ]
  },
  {
   "cell_type": "code",
   "execution_count": 9,
   "metadata": {},
   "outputs": [
    {
     "name": "stdout",
     "output_type": "stream",
     "text": [
      "64\n"
     ]
    }
   ],
   "source": [
    "#Observed exclusion curve\n",
    "fname = './HEPData-ins1630632-v2-csv/Table15.csv'\n",
    "data = np.genfromtxt(fname,names=True,delimiter=',',skip_header=10,skip_footer=65)\n",
    "newF = os.path.splitext(os.path.basename(fname))[0]+'_Obs_converted.csv'\n",
    "header = ','.join(data.dtype.names)\n",
    "np.savetxt(newF,data,header=header,fmt = '%1.7e',delimiter=',')\n",
    "print(len(data))"
   ]
  },
  {
   "cell_type": "code",
   "execution_count": 10,
   "metadata": {},
   "outputs": [
    {
     "name": "stdout",
     "output_type": "stream",
     "text": [
      "64\n"
     ]
    }
   ],
   "source": [
    "#Expected exclusion curve\n",
    "fname = './HEPData-ins1630632-v2-csv/Table15.csv'\n",
    "data = np.genfromtxt(fname,names=True,delimiter=',',skip_header=77)\n",
    "newF = os.path.splitext(os.path.basename(fname))[0]+'_Exp_converted.csv'\n",
    "header = ','.join(data.dtype.names)\n",
    "np.savetxt(newF,data,header=header,fmt = '%1.7e',delimiter=',')\n",
    "print(len(data))"
   ]
  },
  {
   "cell_type": "code",
   "execution_count": null,
   "metadata": {},
   "outputs": [],
   "source": []
  }
 ],
 "metadata": {
  "kernelspec": {
   "display_name": "Python 3",
   "language": "python",
   "name": "python3"
  },
  "language_info": {
   "codemirror_mode": {
    "name": "ipython",
    "version": 3
   },
   "file_extension": ".py",
   "mimetype": "text/x-python",
   "name": "python",
   "nbconvert_exporter": "python",
   "pygments_lexer": "ipython3",
   "version": "3.8.6"
  }
 },
 "nbformat": 4,
 "nbformat_minor": 4
}
