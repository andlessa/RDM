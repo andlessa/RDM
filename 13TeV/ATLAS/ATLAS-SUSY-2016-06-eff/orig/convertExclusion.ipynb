{
 "cells": [
  {
   "cell_type": "code",
   "execution_count": 1,
   "metadata": {},
   "outputs": [],
   "source": [
    "import numpy as np"
   ]
  },
  {
   "cell_type": "code",
   "execution_count": 2,
   "metadata": {},
   "outputs": [],
   "source": [
    "EWexc = np.genfromtxt('./HEPData-ins1641262-v4-Exclusion_contour_EW_2_obs.csv',names=True,\n",
    "                      skip_header=10,delimiter=',')"
   ]
  },
  {
   "cell_type": "code",
   "execution_count": 3,
   "metadata": {},
   "outputs": [],
   "source": [
    "EWexcNew = []\n",
    "for pt in EWexc:\n",
    "    mC1 = pt['MCHARGINO1_GEV']\n",
    "    tauns = pt['TAUCHARGINO1_NS']\n",
    "    width = 6.582e-25/(1e-9*tauns)\n",
    "    EWexcNew.append([mC1,width])"
   ]
  },
  {
   "cell_type": "code",
   "execution_count": 5,
   "metadata": {},
   "outputs": [],
   "source": [
    "header = '%19s'*2 %('mC1_GeV','width_GeV')\n",
    "header = header[3:]\n",
    "np.savetxt('HEPData-ins1641262-v4-Exclusion_contour_EW_2_obs_conv.txt',\n",
    "           EWexcNew,header=header,fmt = ['     %1.7e']*2)"
   ]
  },
  {
   "cell_type": "code",
   "execution_count": null,
   "metadata": {},
   "outputs": [],
   "source": []
  }
 ],
 "metadata": {
  "kernelspec": {
   "display_name": "Python 3",
   "language": "python",
   "name": "python3"
  },
  "language_info": {
   "codemirror_mode": {
    "name": "ipython",
    "version": 3
   },
   "file_extension": ".py",
   "mimetype": "text/x-python",
   "name": "python",
   "nbconvert_exporter": "python",
   "pygments_lexer": "ipython3",
   "version": "3.8.6"
  }
 },
 "nbformat": 4,
 "nbformat_minor": 4
}
