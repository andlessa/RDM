{
 "cells": [
  {
   "cell_type": "code",
   "execution_count": 1,
   "metadata": {},
   "outputs": [],
   "source": [
    "import numpy as np"
   ]
  },
  {
   "cell_type": "code",
   "execution_count": 2,
   "metadata": {},
   "outputs": [],
   "source": [
    "C1C1map = np.genfromtxt('./Separated_channels_efficiency/MSSM_double_output.dat',names=True)"
   ]
  },
  {
   "cell_type": "code",
   "execution_count": 3,
   "metadata": {},
   "outputs": [],
   "source": [
    "C1C1new = []\n",
    "for pt in C1C1map:\n",
    "    mC1 = pt['C_MassGeV']\n",
    "    tauns = pt['tauns']\n",
    "    mN1 = pt['N_MassGeV']\n",
    "    width = 6.582e-25/(1e-9*tauns)\n",
    "    eff = pt['total_eff']\n",
    "    C1C1new.append([mC1,mN1,width,eff])"
   ]
  },
  {
   "cell_type": "code",
   "execution_count": 4,
   "metadata": {},
   "outputs": [],
   "source": [
    "header = '%19s'*4 %('mC1_GeV','mN1_GeV','width_GeV','eff')\n",
    "header = header[3:]\n",
    "np.savetxt('C1C1_eff.txt',C1C1new,header=header,fmt = ['     %1.7e']*4)"
   ]
  },
  {
   "cell_type": "code",
   "execution_count": null,
   "metadata": {},
   "outputs": [],
   "source": []
  }
 ],
 "metadata": {
  "kernelspec": {
   "display_name": "Python 3",
   "language": "python",
   "name": "python3"
  },
  "language_info": {
   "codemirror_mode": {
    "name": "ipython",
    "version": 3
   },
   "file_extension": ".py",
   "mimetype": "text/x-python",
   "name": "python",
   "nbconvert_exporter": "python",
   "pygments_lexer": "ipython3",
   "version": "3.8.6"
  }
 },
 "nbformat": 4,
 "nbformat_minor": 4
}
