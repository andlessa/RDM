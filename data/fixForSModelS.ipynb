{
 "cells": [
  {
   "cell_type": "code",
   "execution_count": 1,
   "metadata": {},
   "outputs": [],
   "source": [
    "import glob"
   ]
  },
  {
   "cell_type": "code",
   "execution_count": 3,
   "metadata": {},
   "outputs": [],
   "source": [
    "for f in glob.glob('smodels/*.slha'):\n",
    "    with open(f,'r') as ff:\n",
    "        data  = ff.readlines()\n",
    "    for i,l in enumerate(data):\n",
    "        if '3    5  16  5000522' in l:\n",
    "            l = l.replace('3    5  16  5000522','2    5  5000522')            \n",
    "        elif 'XSECTION' in l:\n",
    "            if '~chi1~ ~chi1' in l:\n",
    "                l = l.replace('~chi1~ ~chi1','-5000521 5000521')\n",
    "            elif 'lq~ lq' in l:\n",
    "                l = l.replace('lq~ lq','-42 42')\n",
    "            elif 'lq ta' in l:\n",
    "                l = l.replace('lq ta','42 -15')\n",
    "            elif 'lq~ ta' in l:\n",
    "                l = l.replace('lq~ ta','-42 15')\n",
    "        elif 'BLOCK QNUMBERS 42 #  lq' in l:\n",
    "            data[i+5] = '      5 1 # Z2-parity\\n'\n",
    "        data[i] = l\n",
    "    with open(f,'w') as ff:\n",
    "        for l in data: ff.write(l)"
   ]
  },
  {
   "cell_type": "code",
   "execution_count": null,
   "metadata": {},
   "outputs": [],
   "source": []
  }
 ],
 "metadata": {
  "kernelspec": {
   "display_name": "Python 3",
   "language": "python",
   "name": "python3"
  },
  "language_info": {
   "codemirror_mode": {
    "name": "ipython",
    "version": 3
   },
   "file_extension": ".py",
   "mimetype": "text/x-python",
   "name": "python",
   "nbconvert_exporter": "python",
   "pygments_lexer": "ipython3",
   "version": "3.7.3"
  }
 },
 "nbformat": 4,
 "nbformat_minor": 2
}
