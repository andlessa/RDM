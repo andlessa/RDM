{
 "cells": [
  {
   "cell_type": "code",
   "execution_count": 1,
   "metadata": {},
   "outputs": [],
   "source": [
    "import numpy as np\n",
    "import glob,os"
   ]
  },
  {
   "cell_type": "code",
   "execution_count": 6,
   "metadata": {},
   "outputs": [
    {
     "name": "stdout",
     "output_type": "stream",
     "text": [
      "./orig/THSCPM3_eff_mutrig.dat: original # points = 17568, trimmed # points = 7220\n",
      "./orig/THSCPM2b_eff_mutrig.dat: original # points = 1536, trimmed # points = 626\n",
      "./orig/THSCPM9_eff_mutrig.dat: original # points = 17568, trimmed # points = 6594\n",
      "./orig/THSCPM5_eff_mutrig.dat: original # points = 84256, trimmed # points = 37738\n",
      "./orig/THSCPM7_eff_mutrig.dat: original # points = 91744, trimmed # points = 37761\n",
      "./orig/THSCPM4_eff_mutrig.dat: original # points = 17568, trimmed # points = 6662\n",
      "./orig/THSCPM6_eff_mutrig.dat: original # points = 91744, trimmed # points = 35036\n",
      "./orig/THSCPM8_eff_mutrig.dat: original # points = 17568, trimmed # points = 7120\n",
      "./orig/THSCPM1b_eff_mutrig.dat: original # points = 1536, trimmed # points = 648\n"
     ]
    }
   ],
   "source": [
    "#Perform a hard cut in the EMs. Remove all points with efficiencies below effmin:\n",
    "effmin = 1e-4\n",
    "for f in glob.glob('./orig/THSCP*ff_mutrig.dat'):\n",
    "    data = np.genfromtxt(f,names=True)\n",
    "    iremove = []\n",
    "    \n",
    "    for i,pt in enumerate(data):\n",
    "        effmax = max([pt[name] for name in data.dtype.names if 'SR' in name])\n",
    "        if effmax < effmin:\n",
    "            iremove.append(i)\n",
    "    \n",
    "    trimmedData = np.delete(data,iremove)\n",
    "    with open(f,'r') as ff:\n",
    "        header = ff.readlines()[0]\n",
    "    header = header.replace('#','').lstrip().rstrip()\n",
    "    header = header.split()\n",
    "    header = ['%-16s'%(s) for s in header]\n",
    "    header = ''.join(header)\n",
    "    np.savetxt(f.replace('.dat','_trimmed.dat'),trimmedData,fmt='%1.7E',delimiter='   ',header=header)\n",
    "\n",
    "    print('%s: original # points = %i, trimmed # points = %i'%(f,len(data),len(trimmedData)))"
   ]
  },
  {
   "cell_type": "code",
   "execution_count": null,
   "metadata": {},
   "outputs": [],
   "source": []
  }
 ],
 "metadata": {
  "kernelspec": {
   "display_name": "Python 3",
   "language": "python",
   "name": "python3"
  },
  "language_info": {
   "codemirror_mode": {
    "name": "ipython",
    "version": 3
   },
   "file_extension": ".py",
   "mimetype": "text/x-python",
   "name": "python",
   "nbconvert_exporter": "python",
   "pygments_lexer": "ipython3",
   "version": "3.8.2"
  }
 },
 "nbformat": 4,
 "nbformat_minor": 4
}
