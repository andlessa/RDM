{
 "cells": [
  {
   "cell_type": "code",
   "execution_count": 1,
   "metadata": {},
   "outputs": [],
   "source": [
    "import numpy as np"
   ]
  },
  {
   "cell_type": "markdown",
   "metadata": {},
   "source": [
    "### Chargino pair production"
   ]
  },
  {
   "cell_type": "code",
   "execution_count": 2,
   "metadata": {},
   "outputs": [],
   "source": [
    "C1C1map = np.genfromtxt('./Separated_channels_efficiency/MSSM_double_output.dat',names=True)"
   ]
  },
  {
   "cell_type": "code",
   "execution_count": 3,
   "metadata": {},
   "outputs": [],
   "source": [
    "C1C1new = []\n",
    "for pt in C1C1map:\n",
    "    mC1 = pt['C_MassGeV']\n",
    "    tauns = pt['tauns']\n",
    "    mN1 = pt['N_MassGeV']\n",
    "    width = 6.582e-25/(1e-9*tauns)\n",
    "    eff = pt['total_eff']\n",
    "    C1C1new.append([mC1,mN1,width,eff])"
   ]
  },
  {
   "cell_type": "code",
   "execution_count": 4,
   "metadata": {},
   "outputs": [],
   "source": [
    "header = '%19s'*4 %('mC1_GeV','mN1_GeV','width_GeV','eff')\n",
    "header = header[3:]\n",
    "np.savetxt('C1C1_eff.txt',C1C1new,header=header,fmt = ['     %1.7e']*4)"
   ]
  },
  {
   "cell_type": "markdown",
   "metadata": {},
   "source": [
    "### Chargino - LSP production (single production)"
   ]
  },
  {
   "cell_type": "code",
   "execution_count": 5,
   "metadata": {},
   "outputs": [],
   "source": [
    "C1N1map = np.genfromtxt('./Separated_channels_efficiency/MSSM_single_output.dat',names=True)"
   ]
  },
  {
   "cell_type": "code",
   "execution_count": 6,
   "metadata": {},
   "outputs": [],
   "source": [
    "C1N1new = []\n",
    "for pt in C1N1map:\n",
    "    mC1 = pt['C_MassGeV']\n",
    "    tauns = pt['tauns']\n",
    "    mN1 = pt['N_MassGeV']\n",
    "    width = 6.582e-25/(1e-9*tauns)\n",
    "    eff = pt['total_eff']\n",
    "    C1N1new.append([mC1,mN1,width,eff])"
   ]
  },
  {
   "cell_type": "code",
   "execution_count": 7,
   "metadata": {},
   "outputs": [],
   "source": [
    "header = '%19s'*4 %('mC1_GeV','mN1_GeV','width_GeV','eff')\n",
    "header = header[3:]\n",
    "np.savetxt('C1N1_eff.txt',C1N1new,header=header,fmt = ['     %1.7e']*4)"
   ]
  },
  {
   "cell_type": "code",
   "execution_count": null,
   "metadata": {},
   "outputs": [],
   "source": []
  },
  {
   "cell_type": "markdown",
   "metadata": {},
   "source": [
    "### Charged Higgs pair production"
   ]
  },
  {
   "cell_type": "code",
   "execution_count": 8,
   "metadata": {},
   "outputs": [],
   "source": [
    "HcHcmap = np.genfromtxt('./Separated_channels_efficiency/i2HDM_double_output.dat',names=True)"
   ]
  },
  {
   "cell_type": "code",
   "execution_count": 9,
   "metadata": {},
   "outputs": [],
   "source": [
    "HcHcnew = []\n",
    "for pt in HcHcmap:\n",
    "    mHc = pt['C_MassGeV']\n",
    "    tauns = pt['tauns']\n",
    "    mH0 = pt['N_MassGeV']\n",
    "    width = 6.582e-25/(1e-9*tauns)\n",
    "    eff = pt['total_eff']\n",
    "    HcHcnew.append([mHc,mH0,width,eff])"
   ]
  },
  {
   "cell_type": "code",
   "execution_count": 10,
   "metadata": {},
   "outputs": [],
   "source": [
    "header = '%19s'*4 %('mHc_GeV','mH0_GeV','width_GeV','eff')\n",
    "header = header[3:]\n",
    "np.savetxt('HcHc_eff.txt',HcHcnew,header=header,fmt = ['     %1.7e']*4)"
   ]
  },
  {
   "cell_type": "markdown",
   "metadata": {},
   "source": [
    "### Charged Higgs  Neutral Higgs production (single production)"
   ]
  },
  {
   "cell_type": "code",
   "execution_count": 11,
   "metadata": {},
   "outputs": [],
   "source": [
    "HcH0map = np.genfromtxt('./Separated_channels_efficiency//i2HDM_single_output.dat',names=True)"
   ]
  },
  {
   "cell_type": "code",
   "execution_count": 12,
   "metadata": {},
   "outputs": [],
   "source": [
    "HcH0new = []\n",
    "for pt in HcH0map:\n",
    "    mHc = pt['C_MassGeV']\n",
    "    tauns = pt['tauns']\n",
    "    mH0 = pt['N_MassGeV']\n",
    "    width = 6.582e-25/(1e-9*tauns)\n",
    "    eff = pt['total_eff']\n",
    "    HcH0new.append([mHc,mH0,width,eff])"
   ]
  },
  {
   "cell_type": "code",
   "execution_count": 13,
   "metadata": {},
   "outputs": [],
   "source": [
    "header = '%19s'*4 %('mHc_GeV','mH0_GeV','width_GeV','eff')\n",
    "header = header[3:]\n",
    "np.savetxt('HcH0_eff.txt',HcH0new,header=header,fmt = ['     %1.7e']*4)"
   ]
  }
 ],
 "metadata": {
  "kernelspec": {
   "display_name": "Python 3",
   "language": "python",
   "name": "python3"
  },
  "language_info": {
   "codemirror_mode": {
    "name": "ipython",
    "version": 3
   },
   "file_extension": ".py",
   "mimetype": "text/x-python",
   "name": "python",
   "nbconvert_exporter": "python",
   "pygments_lexer": "ipython3",
   "version": "3.8.6"
  }
 },
 "nbformat": 4,
 "nbformat_minor": 4
}
