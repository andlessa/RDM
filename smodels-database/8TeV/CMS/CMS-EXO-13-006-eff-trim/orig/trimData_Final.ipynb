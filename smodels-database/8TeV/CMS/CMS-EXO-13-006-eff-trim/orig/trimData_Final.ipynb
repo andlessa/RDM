{
 "cells": [
  {
   "cell_type": "code",
   "execution_count": 1,
   "metadata": {},
   "outputs": [],
   "source": [
    "import os,sys,glob\n",
    "smodelsPath = os.path.expanduser('~/smodels')\n",
    "sys.path.append(smodelsPath)\n",
    "from smodels.theory.auxiliaryFunctions import rescaleWidth, unscaleWidth\n",
    "import numpy as np\n",
    "from trimRegularGrid import trim1D, testTrimmedGrid, removeWidth"
   ]
  },
  {
   "cell_type": "markdown",
   "metadata": {},
   "source": [
    "### Trim data along width dimension"
   ]
  },
  {
   "cell_type": "code",
   "execution_count": 2,
   "metadata": {},
   "outputs": [
    {
     "name": "stdout",
     "output_type": "stream",
     "text": [
      "\n",
      " THSCPM1b_efficiencyMaps_c000.dat\n",
      "Data successfully trimmed down to 40% (642/1600) in 0.0 min\n",
      "\n",
      " THSCPM1b_efficiencyMaps_c100.dat\n",
      "Data successfully trimmed down to 36% (569/1600) in 0.0 min\n",
      "\n",
      " THSCPM1b_efficiencyMaps_c200.dat\n",
      "Data successfully trimmed down to 31% (492/1600) in 0.0 min\n",
      "\n",
      " THSCPM1b_efficiencyMaps_c300.dat\n",
      "Data successfully trimmed down to 26% (415/1600) in 0.0 min\n"
     ]
    }
   ],
   "source": [
    "maxDiff=5e-2\n",
    "minValue=1e-8\n",
    "datasetNames = ['c000','c100','c200','c300']\n",
    "# txNames = ['THSCPM1b','THSCPM2b','THSCPM3','THSCPM4','THSCPM5', 'THSCPM6','THSCPM7','THSCPM8','THSCPM9']\n",
    "# txNames = ['THSCPM5']\n",
    "txNames = ['THSCPM1b','THSCPM2b']\n",
    "zlabels = ['width']\n",
    "filenames = []\n",
    "for tx in txNames:\n",
    "    for ds in datasetNames:\n",
    "        dataFile = '%s_efficiencyMaps_%s.dat' %(tx,ds)\n",
    "        if not os.path.isfile(dataFile):\n",
    "            continue\n",
    "        filenames.append(dataFile)\n",
    "\n",
    "\n",
    "for zlabel in zlabels:\n",
    "    for i,dataFile in enumerate(filenames[:]):\n",
    "        print('\\n',dataFile)\n",
    "        #Get column name for efficiency\n",
    "        valueLabel = [v for v in os.path.splitext(dataFile)[0].split('_') if v[0] == 'c'][0]\n",
    "        #Get data\n",
    "        data = np.genfromtxt(dataFile,names=True)\n",
    "        if not zlabel in data.dtype.names:\n",
    "            continue\n",
    "        \n",
    "        xlabels = [x for x in data.dtype.names if not 'ctau' in x.lower() and not x == valueLabel and not x == zlabel]\n",
    "        xpts = [list(x) for x in data[xlabels]]\n",
    "        ypts = data[valueLabel]\n",
    "        zpts = [rescaleWidth(z) for z in data[zlabel]]\n",
    "        data[zlabel] = np.array(zpts)\n",
    "        keepLines = trim1D(zpts,xpts,ypts,maxDiff=maxDiff,minY=minValue)\n",
    "\n",
    "        #Save trimmed grid to file:\n",
    "        data = np.genfromtxt(dataFile,names=True)  #Get original data\n",
    "        newF = os.path.splitext(dataFile)[0]+'_trimmed%s.dat'%(zlabel)\n",
    "        header = '%19s'*len(data.dtype.names) %data.dtype.names\n",
    "        header = header[3:]\n",
    "        newData = data[keepLines]\n",
    "        np.savetxt(newF,newData,header=header,fmt = ['     %1.7e']*len(data.dtype.names))\n",
    "        \n",
    "        filenames[i] = newF #Update file for trimming\n"
   ]
  },
  {
   "cell_type": "markdown",
   "metadata": {},
   "source": [
    "### Remove width data from maps:"
   ]
  },
  {
   "cell_type": "code",
   "execution_count": 3,
   "metadata": {},
   "outputs": [
    {
     "name": "stdout",
     "output_type": "stream",
     "text": [
      "\n",
      " THSCPM1b_efficiencyMaps_c000.dat\n",
      "Removing widths reduced data down to 3% (50/1600)\n",
      "\n",
      " THSCPM1b_efficiencyMaps_c100.dat\n",
      "Removing widths reduced data down to 3% (50/1600)\n",
      "\n",
      " THSCPM1b_efficiencyMaps_c200.dat\n",
      "Removing widths reduced data down to 3% (50/1600)\n",
      "\n",
      " THSCPM1b_efficiencyMaps_c300.dat\n",
      "Removing widths reduced data down to 3% (50/1600)\n"
     ]
    }
   ],
   "source": [
    "datasetNames = ['c000','c100','c200','c300']\n",
    "\n",
    "for tx in txNames:\n",
    "    for ds in datasetNames:\n",
    "        dataFile = '%s_efficiencyMaps_%s.dat' %(tx,ds)\n",
    "        if not os.path.isfile(dataFile):\n",
    "            continue        \n",
    "        print('\\n',dataFile)\n",
    "        #Get data\n",
    "        data = np.genfromtxt(dataFile,names=True)\n",
    "        #Remove width\n",
    "        reducedData = removeWidth(data,label='width')\n",
    "    \n",
    "    \n",
    "        newF = os.path.splitext(dataFile)[0]+'_noWidth.dat'\n",
    "        header = '%19s'*len(data.dtype.names) %data.dtype.names\n",
    "        header = header[3:]\n",
    "        np.savetxt(newF,reducedData,header=header,fmt = ['     %1.7e']*len(data.dtype.names))\n"
   ]
  },
  {
   "cell_type": "code",
   "execution_count": null,
   "metadata": {},
   "outputs": [],
   "source": []
  }
 ],
 "metadata": {
  "kernelspec": {
   "display_name": "Python 3",
   "language": "python",
   "name": "python3"
  },
  "language_info": {
   "codemirror_mode": {
    "name": "ipython",
    "version": 3
   },
   "file_extension": ".py",
   "mimetype": "text/x-python",
   "name": "python",
   "nbconvert_exporter": "python",
   "pygments_lexer": "ipython3",
   "version": "3.8.6"
  }
 },
 "nbformat": 4,
 "nbformat_minor": 4
}
