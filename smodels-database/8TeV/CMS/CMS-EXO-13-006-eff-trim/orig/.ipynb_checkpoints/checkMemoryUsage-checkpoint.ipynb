{
 "cells": [
  {
   "cell_type": "code",
   "execution_count": 1,
   "metadata": {},
   "outputs": [],
   "source": [
    "import os,sys\n",
    "smodelsPath = os.path.expanduser('~/smodels')\n",
    "sys.path.append(smodelsPath)\n",
    "from smodels.experiment.databaseObj import Database\n",
    "from smodels.tools.physicsUnits import GeV\n",
    "import numpy as np\n",
    "from scipy.spatial import ConvexHull\n",
    "import matplotlib.pyplot as plt\n",
    "from matplotlib.colors import LogNorm\n",
    "import seaborn as sns\n",
    "from scipy.special import kn,zetac\n",
    "sns.set() #Set style\n",
    "sns.set_style('ticks',{'font.family':'serif', 'font.serif':'Times New Roman'})\n",
    "sns.set_context('paper', font_scale=1.8)\n",
    "sns.set_palette(sns.color_palette(\"Paired\"))\n",
    "cm = plt.cm.get_cmap('RdYlBu')"
   ]
  },
  {
   "cell_type": "code",
   "execution_count": 2,
   "metadata": {},
   "outputs": [],
   "source": [
    "def get_size(obj, seen=None):\n",
    "    \"\"\"Recursively finds size of objects\"\"\"\n",
    "    size = sys.getsizeof(obj)\n",
    "    if seen is None:\n",
    "        seen = set()\n",
    "    obj_id = id(obj)\n",
    "    if obj_id in seen:\n",
    "        return 0\n",
    "    # Important mark as seen *before* entering recursion to gracefully handle\n",
    "    # self-referential objects\n",
    "    seen.add(obj_id)\n",
    "    if isinstance(obj, dict):\n",
    "        size += sum([get_size(v, seen) for v in obj.values()])\n",
    "        size += sum([get_size(k, seen) for k in obj.keys()])\n",
    "    elif hasattr(obj, '__dict__'):\n",
    "        size += get_size(obj.__dict__, seen)\n",
    "    elif hasattr(obj, '__iter__') and not isinstance(obj, (str, bytes, bytearray)):\n",
    "        size += sum([get_size(i, seen) for i in obj])\n",
    "    return size"
   ]
  },
  {
   "cell_type": "code",
   "execution_count": 3,
   "metadata": {},
   "outputs": [],
   "source": [
    "dbLLP = Database(os.path.abspath('../../../../')) #Only LLP results\n",
    "db124 = Database(os.path.expanduser('~/smodels-database-release'))"
   ]
  },
  {
   "cell_type": "code",
   "execution_count": 4,
   "metadata": {},
   "outputs": [
    {
     "name": "stdout",
     "output_type": "stream",
     "text": [
      "LLP database memory usage= 199.89 MB\n",
      "v1.2.4 database memory usage= 1109.84 MB\n"
     ]
    }
   ],
   "source": [
    "print('LLP database memory usage= %1.2f MB' %(get_size(dbLLP)/1e6))\n",
    "print('v1.2.4 database memory usage= %1.2f MB' %(get_size(db124)/1e6))"
   ]
  },
  {
   "cell_type": "code",
   "execution_count": 5,
   "metadata": {},
   "outputs": [
    {
     "name": "stdout",
     "output_type": "stream",
     "text": [
      "LLP results:\n",
      "CMS-EXO-13-006 size = 122.99 MB\n",
      "ATLAS-SUSY-2016-32 size = 54.16 MB\n",
      "CMS-EXO-13-006 size = 22.88 MB\n",
      "ATLAS-SUSY-2016-08 size = 0.13 MB\n",
      "ATLAS-SUSY-2016-32 size = 0.13 MB\n"
     ]
    }
   ],
   "source": [
    "print('LLP results:')\n",
    "expSizes = [[exp,get_size(exp)] for exp in  dbLLP.getExpResults()]\n",
    "expSizes = sorted(expSizes, key = lambda x: x[1],reverse=True)\n",
    "for exp in expSizes:\n",
    "    print(exp[0].globalInfo.id,'size = %1.2f MB' %(exp[1]/1e6))"
   ]
  },
  {
   "cell_type": "code",
   "execution_count": 6,
   "metadata": {},
   "outputs": [
    {
     "name": "stdout",
     "output_type": "stream",
     "text": [
      "1.2.4 results:\n",
      "CMS-SUS-13-012 size = 386.42 MB\n",
      "ATLAS-SUSY-2016-07 size = 162.40 MB\n",
      "CMS-SUS-16-033 size = 50.96 MB\n",
      "ATLAS-SUSY-2013-02 size = 39.97 MB\n",
      "CMS-SUS-19-006 size = 38.28 MB\n",
      "ATLAS-SUSY-2013-04 size = 35.93 MB\n",
      "ATLAS-SUSY-2013-11 size = 30.86 MB\n",
      "CMS-SUS-16-036 size = 29.40 MB\n",
      "CMS-EXO-13-006 size = 22.87 MB\n",
      "CMS-SUS-16-039 size = 20.01 MB\n",
      "CMS-SUS-16-033 size = 19.86 MB\n",
      "CMS-SUS-18-002 size = 19.36 MB\n",
      "CMS-SUS-16-050 size = 15.81 MB\n",
      "CMS-PAS-EXO-16-036 size = 13.45 MB\n",
      "CMS-SUS-17-003 size = 12.45 MB\n",
      "...\n"
     ]
    }
   ],
   "source": [
    "print('1.2.4 results:')\n",
    "expSizes = [[exp,get_size(exp)] for exp in  db124.getExpResults()]\n",
    "expSizes = sorted(expSizes, key = lambda x: x[1],reverse=True)\n",
    "for exp in expSizes[:15]:\n",
    "    print(exp[0].globalInfo.id,'size = %1.2f MB' %(exp[1]/1e6))\n",
    "print('...')"
   ]
  }
 ],
 "metadata": {
  "kernelspec": {
   "display_name": "Python 3",
   "language": "python",
   "name": "python3"
  },
  "language_info": {
   "codemirror_mode": {
    "name": "ipython",
    "version": 3
   },
   "file_extension": ".py",
   "mimetype": "text/x-python",
   "name": "python",
   "nbconvert_exporter": "python",
   "pygments_lexer": "ipython3",
   "version": "3.8.2"
  }
 },
 "nbformat": 4,
 "nbformat_minor": 4
}
