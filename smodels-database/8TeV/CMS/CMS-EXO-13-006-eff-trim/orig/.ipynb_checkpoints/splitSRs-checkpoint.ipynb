{
 "cells": [
  {
   "cell_type": "code",
   "execution_count": 1,
   "metadata": {},
   "outputs": [],
   "source": [
    "import os,sys,glob\n",
    "import numpy as np"
   ]
  },
  {
   "cell_type": "code",
   "execution_count": 3,
   "metadata": {},
   "outputs": [],
   "source": [
    "for f in glob.glob('./THSCPM*_efficiencyMaps.txt'):\n",
    "    data = np.genfromtxt(f,names=True)\n",
    "    SRlabels = [x for x in data.dtype.names if x.lower() in ['c000','c100', 'c200', 'c300']]\n",
    "    params = [x for x in data.dtype.names if not x in SRlabels]\n",
    "    for SR in SRlabels:\n",
    "        newF = os.path.splitext(f)[0]+'_%s.dat' %SR\n",
    "        header = '%19s'*(len(params)+1) %tuple(params+[SR])\n",
    "        header = header[3:]\n",
    "        np.savetxt(newF,data[params+[SR]],header=header,fmt = ['     %1.7e']*(len(params)+1))"
   ]
  },
  {
   "cell_type": "code",
   "execution_count": null,
   "metadata": {},
   "outputs": [],
   "source": []
  }
 ],
 "metadata": {
  "kernelspec": {
   "display_name": "Python 3",
   "language": "python",
   "name": "python3"
  },
  "language_info": {
   "codemirror_mode": {
    "name": "ipython",
    "version": 3
   },
   "file_extension": ".py",
   "mimetype": "text/x-python",
   "name": "python",
   "nbconvert_exporter": "python",
   "pygments_lexer": "ipython3",
   "version": "3.8.5"
  }
 },
 "nbformat": 4,
 "nbformat_minor": 4
}
