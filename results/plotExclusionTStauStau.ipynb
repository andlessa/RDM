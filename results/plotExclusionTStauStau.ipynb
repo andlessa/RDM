{
 "cells": [
  {
   "cell_type": "code",
   "execution_count": 1,
   "metadata": {},
   "outputs": [],
   "source": [
    "import matplotlib.pyplot as plt\n",
    "import os,glob\n",
    "import numpy as np\n",
    "import seaborn as sns\n",
    "from scipy.special import kn,zetac\n",
    "import copy\n",
    "import mypyslha as pyslha\n",
    "sns.set() #Set style\n",
    "sns.set_style('ticks',{'font.family':'serif', 'font.serif':'Times New Roman'})\n",
    "sns.set_context('paper', font_scale=1.8)\n",
    "sns.set_palette(sns.color_palette(\"Paired\"))"
   ]
  },
  {
   "cell_type": "code",
   "execution_count": 2,
   "metadata": {},
   "outputs": [],
   "source": [
    "def getContour(xpts,ypts,zpts,levels):\n",
    "    \"\"\"\n",
    "    Uses pyplot tricontour method to obtain contour\n",
    "    curves in a 2D plane.\n",
    "\n",
    "    :return: A dictionary with a list of contours for each level\n",
    "    \"\"\"\n",
    "    \n",
    "    fig = plt.figure()\n",
    "    x = copy.deepcopy(xpts)\n",
    "    y = copy.deepcopy(ypts)\n",
    "    z = copy.deepcopy(zpts)\n",
    "    CS = plt.tricontour(x,y,z,levels=levels)    \n",
    "    levelPts = {}\n",
    "    for il,level in enumerate(CS.levels):\n",
    "        levelPts[level] = []\n",
    "        c = CS.collections[il]        \n",
    "        paths = c.get_paths()\n",
    "        for path in paths:\n",
    "            levelPts[level].append(path.vertices)\n",
    "    plt.close(fig)\n",
    "    \n",
    "    return levelPts"
   ]
  },
  {
   "cell_type": "markdown",
   "metadata": {},
   "source": [
    "## Get SModelS Output and Cross-sections"
   ]
  },
  {
   "cell_type": "code",
   "execution_count": 9,
   "metadata": {},
   "outputs": [],
   "source": [
    "rValues = []\n",
    "allAna = []\n",
    "bestAna = []\n",
    "for fname in glob.glob('../data/smodels_output_BM1/*.py'):\n",
    "    slhafile = os.path.basename(fname).replace('.py','')\n",
    "    slhadata = pyslha.readSLHAFile(os.path.join('../data/slha_BM1/',slhafile))\n",
    "    with open(fname,'r') as f:\n",
    "        smodelsOutput = eval(f.read().replace(\"smodelsOutput = \",\"\"),{'nan' : np.nan})    \n",
    "    \n",
    "    if not 'ExptRes' in smodelsOutput or not smodelsOutput['ExptRes']:\n",
    "        continue\n",
    "        bestR = 0.\n",
    "    else:\n",
    "        allAna += [res['AnalysisID'] for res in smodelsOutput['ExptRes']]\n",
    "        bestR = max([res['r'] for res in smodelsOutput['ExptRes']])\n",
    "        bestAna += [res['AnalysisID'] for res in smodelsOutput['ExptRes'] if res['r'] == bestR]\n",
    "    mDM = slhadata.blocks['MASS'][5000522]\n",
    "    mChi1 = slhadata.blocks['MASS'][5000521]\n",
    "    rValues.append([mChi1,mChi1-mDM,bestR])\n",
    "#     rValues.append([mLLP,lambLLP,bestR])"
   ]
  },
  {
   "cell_type": "code",
   "execution_count": 10,
   "metadata": {},
   "outputs": [
    {
     "data": {
      "text/plain": [
       "(['ATLAS-SUSY-2018-04'], ['ATLAS-SUSY-2018-04'])"
      ]
     },
     "execution_count": 10,
     "metadata": {},
     "output_type": "execute_result"
    }
   ],
   "source": [
    "rValues = np.array(rValues)\n",
    "bestAna = sorted(list(set(bestAna)))\n",
    "allAna = sorted(list(set(allAna)))\n",
    "bestAna,allAna"
   ]
  },
  {
   "cell_type": "code",
   "execution_count": 11,
   "metadata": {},
   "outputs": [
    {
     "name": "stderr",
     "output_type": "stream",
     "text": [
      "/home/lessa/.local/lib/python3.7/site-packages/matplotlib/contour.py:1243: UserWarning: No contour levels were found within the data range.\n",
      "  warnings.warn(\"No contour levels were found\"\n"
     ]
    },
    {
     "ename": "KeyError",
     "evalue": "1.0",
     "output_type": "error",
     "traceback": [
      "\u001b[0;31m---------------------------------------------------------------------------\u001b[0m",
      "\u001b[0;31mKeyError\u001b[0m                                  Traceback (most recent call last)",
      "\u001b[0;32m<ipython-input-11-9ec6e055df39>\u001b[0m in \u001b[0;36m<module>\u001b[0;34m\u001b[0m\n\u001b[1;32m      3\u001b[0m \u001b[0macc\u001b[0m \u001b[0;34m=\u001b[0m \u001b[0;34m(\u001b[0m\u001b[0;36m1\u001b[0m\u001b[0;34m-\u001b[0m\u001b[0mcMistag\u001b[0m\u001b[0;34m)\u001b[0m\u001b[0;34m**\u001b[0m\u001b[0;36m2\u001b[0m\u001b[0;34m\u001b[0m\u001b[0;34m\u001b[0m\u001b[0m\n\u001b[1;32m      4\u001b[0m \u001b[0mkfactor\u001b[0m \u001b[0;34m=\u001b[0m \u001b[0;36m1.2\u001b[0m\u001b[0;34m\u001b[0m\u001b[0;34m\u001b[0m\u001b[0m\n\u001b[0;32m----> 5\u001b[0;31m \u001b[0mexcCurve\u001b[0m \u001b[0;34m=\u001b[0m \u001b[0mnp\u001b[0m\u001b[0;34m.\u001b[0m\u001b[0marray\u001b[0m\u001b[0;34m(\u001b[0m\u001b[0mgetContour\u001b[0m\u001b[0;34m(\u001b[0m\u001b[0mrValues\u001b[0m\u001b[0;34m[\u001b[0m\u001b[0;34m:\u001b[0m\u001b[0;34m,\u001b[0m\u001b[0;36m0\u001b[0m\u001b[0;34m]\u001b[0m\u001b[0;34m,\u001b[0m\u001b[0mrValues\u001b[0m\u001b[0;34m[\u001b[0m\u001b[0;34m:\u001b[0m\u001b[0;34m,\u001b[0m\u001b[0;36m1\u001b[0m\u001b[0;34m]\u001b[0m\u001b[0;34m,\u001b[0m\u001b[0mkfactor\u001b[0m\u001b[0;34m*\u001b[0m\u001b[0macc\u001b[0m\u001b[0;34m*\u001b[0m\u001b[0mrValues\u001b[0m\u001b[0;34m[\u001b[0m\u001b[0;34m:\u001b[0m\u001b[0;34m,\u001b[0m\u001b[0;36m2\u001b[0m\u001b[0;34m]\u001b[0m\u001b[0;34m,\u001b[0m\u001b[0mlevels\u001b[0m\u001b[0;34m=\u001b[0m\u001b[0;34m[\u001b[0m\u001b[0;36m1.\u001b[0m\u001b[0;34m]\u001b[0m\u001b[0;34m)\u001b[0m\u001b[0;34m[\u001b[0m\u001b[0;36m1.\u001b[0m\u001b[0;34m]\u001b[0m\u001b[0;34m[\u001b[0m\u001b[0;36m0\u001b[0m\u001b[0;34m]\u001b[0m\u001b[0;34m)\u001b[0m\u001b[0;34m\u001b[0m\u001b[0;34m\u001b[0m\u001b[0m\n\u001b[0m\u001b[1;32m      6\u001b[0m \u001b[0mexcCurve\u001b[0m\u001b[0;34m[\u001b[0m\u001b[0;34m:\u001b[0m\u001b[0;34m,\u001b[0m\u001b[0;36m1\u001b[0m\u001b[0;34m]\u001b[0m \u001b[0;34m=\u001b[0m \u001b[0mexcCurve\u001b[0m\u001b[0;34m[\u001b[0m\u001b[0;34m:\u001b[0m\u001b[0;34m,\u001b[0m\u001b[0;36m1\u001b[0m\u001b[0;34m]\u001b[0m\u001b[0;34m\u001b[0m\u001b[0;34m\u001b[0m\u001b[0m\n\u001b[1;32m      7\u001b[0m \u001b[0;31m# excCurve = np.append(excCurve,[excCurve[0]],axis=0) #Make sure curve closes\u001b[0m\u001b[0;34m\u001b[0m\u001b[0;34m\u001b[0m\u001b[0;34m\u001b[0m\u001b[0m\n",
      "\u001b[0;31mKeyError\u001b[0m: 1.0"
     ]
    }
   ],
   "source": [
    "cMistag = 0.25 # efficiency for mistagging a c-jet as a b-jet\n",
    "#Assume that only events with no b-tagged jets are accepted (there are two c-jets/event):\n",
    "acc = (1-cMistag)**2 \n",
    "kfactor = 1.2\n",
    "excCurve = np.array(getContour(rValues[:,0],rValues[:,1],kfactor*acc*rValues[:,2],levels=[1.])[1.][0])\n",
    "excCurve[:,1] = excCurve[:,1]\n",
    "# excCurve = np.append(excCurve,[excCurve[0]],axis=0) #Make sure curve closes"
   ]
  },
  {
   "cell_type": "markdown",
   "metadata": {},
   "source": [
    "## Plot Curves"
   ]
  },
  {
   "cell_type": "code",
   "execution_count": 12,
   "metadata": {},
   "outputs": [
    {
     "data": {
      "image/png": "[encoded data removed]",
      "text/plain": [
       "<Figure size 432x288 with 2 Axes>"
      ]
     },
     "metadata": {
      "needs_background": "light"
     },
     "output_type": "display_data"
    }
   ],
   "source": [
    "cp = plt.scatter(rValues[:,0],rValues[:,1],c=rValues[:,2],s=35,cmap=plt.cm.get_cmap('RdYlBu'), vmin=0., vmax=2.)\n",
    "plt.plot(excCurve[:,0],excCurve[:,1],label='Exclusion',linewidth=3,linestyle='--')\n",
    "plt.fill_between(excCurve[:,0],excCurve[:,1],excCurve[:,1].max(),alpha=0.5)\n",
    "cb = plt.colorbar(cp)\n",
    "# plt.yscale('log')\n",
    "plt.xlabel(r'$m_{\\chi_1}$ (GeV)')    \n",
    "plt.ylabel(r'$m_{\\chi_1}-m_{\\chi_0}$ (GeV)')\n",
    "# plt.xlim(400.,1000.)\n",
    "# plt.ylim(0,150.)\n",
    "# plt.legend()\n",
    "plt.tight_layout()\n",
    "plt.title(r\"$\\chi_1 \\bar{\\chi}_1 \\to b + b + $ MET (SModelS)\",fontsize=15)\n",
    "plt.tight_layout()\n",
    "# plt.savefig('T2bb_exclusion_BM2.pdf')\n",
    "plt.show()"
   ]
  },
  {
   "cell_type": "code",
   "execution_count": 11,
   "metadata": {},
   "outputs": [],
   "source": [
    "np.savetxt('T2bb_exclusion_BM1.txt',excCurve,delimiter=',',header=\"mchi1 (GeV), mchi1-mchi0 (GeV)\")"
   ]
  },
  {
   "cell_type": "code",
   "execution_count": null,
   "metadata": {},
   "outputs": [],
   "source": []
  }
 ],
 "metadata": {
  "kernelspec": {
   "display_name": "Python 3",
   "language": "python",
   "name": "python3"
  },
  "language_info": {
   "codemirror_mode": {
    "name": "ipython",
    "version": 3
   },
   "file_extension": ".py",
   "mimetype": "text/x-python",
   "name": "python",
   "nbconvert_exporter": "python",
   "pygments_lexer": "ipython3",
   "version": "3.7.3"
  }
 },
 "nbformat": 4,
 "nbformat_minor": 2
}
