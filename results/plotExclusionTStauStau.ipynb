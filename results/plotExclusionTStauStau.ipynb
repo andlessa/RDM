{
 "cells": [
  {
   "cell_type": "code",
   "execution_count": 1,
   "metadata": {},
   "outputs": [],
   "source": [
    "import matplotlib.pyplot as plt\n",
    "import os,glob\n",
    "import numpy as np\n",
    "import seaborn as sns\n",
    "from scipy.special import kn,zetac\n",
    "import copy\n",
    "import mypyslha as pyslha\n",
    "sns.set() #Set style\n",
    "sns.set_style('ticks',{'font.family':'serif', 'font.serif':'Times New Roman'})\n",
    "sns.set_context('paper', font_scale=1.8)\n",
    "sns.set_palette(sns.color_palette(\"Paired\"))"
   ]
  },
  {
   "cell_type": "code",
   "execution_count": 2,
   "metadata": {},
   "outputs": [],
   "source": [
    "def getContour(xpts,ypts,zpts,levels):\n",
    "    \"\"\"\n",
    "    Uses pyplot tricontour method to obtain contour\n",
    "    curves in a 2D plane.\n",
    "\n",
    "    :return: A dictionary with a list of contours for each level\n",
    "    \"\"\"\n",
    "    \n",
    "    fig = plt.figure()\n",
    "    x = copy.deepcopy(xpts)\n",
    "    y = copy.deepcopy(ypts)\n",
    "    z = copy.deepcopy(zpts)\n",
    "    CS = plt.tricontour(x,y,z,levels=levels)    \n",
    "    levelPts = {}\n",
    "    for il,level in enumerate(CS.levels):\n",
    "        levelPts[level] = []\n",
    "        c = CS.collections[il]        \n",
    "        paths = c.get_paths()\n",
    "        for path in paths:\n",
    "            levelPts[level].append(path.vertices)\n",
    "    plt.close(fig)\n",
    "    \n",
    "    return levelPts"
   ]
  },
  {
   "cell_type": "markdown",
   "metadata": {},
   "source": [
    "## Get CheckMate Output"
   ]
  },
  {
   "cell_type": "code",
   "execution_count": 3,
   "metadata": {},
   "outputs": [],
   "source": [
    "rValues = []\n",
    "allAna = []\n",
    "bestAna = []\n",
    "for fname in glob.glob('../data/checkmate/*'):\n",
    "    slhafile = os.path.basename(fname)+'.slha'\n",
    "    checkmateFile = os.path.join(fname,'result.txt')\n",
    "    slhadata = pyslha.readSLHAFile(os.path.join('../data/slha_BM1/',slhafile))\n",
    "    with open(checkmateFile,'r') as f:\n",
    "        r = f.read().split('Result for r:')[1].splitlines()[0]\n",
    "    r = eval(r)\n",
    "    mDM = slhadata.blocks['MASS'][5000522]\n",
    "    mChi1 = slhadata.blocks['MASS'][5000521]\n",
    "    rValues.append([mChi1,mChi1-mDM,r])"
   ]
  },
  {
   "cell_type": "code",
   "execution_count": 4,
   "metadata": {},
   "outputs": [],
   "source": [
    "rValues = np.array(rValues)"
   ]
  },
  {
   "cell_type": "code",
   "execution_count": 11,
   "metadata": {},
   "outputs": [],
   "source": [
    "kfactor = 1.5\n",
    "excCurve = np.array(getContour(rValues[:,0],rValues[:,1],kfactor*rValues[:,2],levels=[1.])[1.][0])\n",
    "excCurve[:,1] = excCurve[:,1]\n",
    "# excCurve = np.append(excCurve,[excCurve[0]],axis=0) #Make sure curve closes"
   ]
  },
  {
   "cell_type": "markdown",
   "metadata": {},
   "source": [
    "## Plot Curves"
   ]
  },
  {
   "cell_type": "code",
   "execution_count": 15,
   "metadata": {},
   "outputs": [
    {
     "data": {
      "image/png": "[encoded data removed]",
      "text/plain": [
       "<Figure size 432x288 with 1 Axes>"
      ]
     },
     "metadata": {},
     "output_type": "display_data"
    }
   ],
   "source": [
    "# cp = plt.scatter(rValues[:,0],rValues[:,1],c=rValues[:,2],s=35,cmap=plt.cm.get_cmap('RdYlBu'), vmin=0., vmax=2.)\n",
    "plt.plot(excCurve[:,0],excCurve[:,1],label='Exclusion',linewidth=3,linestyle='--')\n",
    "plt.fill_between(excCurve[:,0],excCurve[:,1],excCurve[:,1].max(),alpha=0.5)\n",
    "# cb = plt.colorbar(cp)\n",
    "# plt.yscale('log')\n",
    "plt.xlabel(r'$m_{\\chi_1}$ (GeV)')    \n",
    "plt.ylabel(r'$m_{\\chi_1}-m_{\\chi_0}$ (GeV)')\n",
    "plt.xlim(0.,1500.)\n",
    "plt.ylim(0,400.)\n",
    "# plt.legend()\n",
    "plt.tight_layout()\n",
    "plt.title(r\"$\\chi_1 + \\bar{\\chi}_1 \\to \\tau c \\chi_0 + \\tau c \\chi_0$ (CheckMATE)\",fontsize=15)\n",
    "plt.tight_layout()\n",
    "plt.savefig('TStauStau_exclusion_BM1.png')\n",
    "plt.show()"
   ]
  },
  {
   "cell_type": "code",
   "execution_count": 16,
   "metadata": {},
   "outputs": [],
   "source": [
    "np.savetxt('TStauStau_exclusion_BM1.txt',excCurve,delimiter=',',header=\"mchi1 (GeV), mchi1-mchi0 (GeV)\")"
   ]
  },
  {
   "cell_type": "code",
   "execution_count": null,
   "metadata": {},
   "outputs": [],
   "source": []
  }
 ],
 "metadata": {
  "kernelspec": {
   "display_name": "Python 3",
   "language": "python",
   "name": "python3"
  },
  "language_info": {
   "codemirror_mode": {
    "name": "ipython",
    "version": 3
   },
   "file_extension": ".py",
   "mimetype": "text/x-python",
   "name": "python",
   "nbconvert_exporter": "python",
   "pygments_lexer": "ipython3",
   "version": "3.7.5"
  }
 },
 "nbformat": 4,
 "nbformat_minor": 2
}
