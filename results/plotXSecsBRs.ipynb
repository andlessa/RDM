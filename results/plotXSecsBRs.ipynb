{
 "cells": [
  {
   "cell_type": "code",
   "execution_count": 4,
   "metadata": {},
   "outputs": [],
   "source": [
    "import warnings\n",
    "warnings.filterwarnings(\"ignore\", message=\"numpy.dtype size changed\")\n",
    "import numpy as np\n",
    "import matplotlib as mpl\n",
    "import matplotlib.pyplot as plt\n",
    "from matplotlib.colors import LogNorm\n",
    "from collections import OrderedDict\n",
    "import seaborn as sns\n",
    "import mypyslha as pyslha\n",
    "import glob\n",
    "\n",
    "#Define plotting style:\n",
    "sns.set() #Set style\n",
    "sns.set_style('ticks',{'font.family':'serif', 'font.serif':'Times New Roman'})\n",
    "sns.set_context('paper', font_scale=1.8)"
   ]
  },
  {
   "cell_type": "markdown",
   "metadata": {},
   "source": [
    "## SLHA data"
   ]
  },
  {
   "cell_type": "code",
   "execution_count": 5,
   "metadata": {},
   "outputs": [],
   "source": [
    "slhaFolder = '../data/slha'"
   ]
  },
  {
   "cell_type": "markdown",
   "metadata": {},
   "source": [
    "### Get data"
   ]
  },
  {
   "cell_type": "code",
   "execution_count": 45,
   "metadata": {},
   "outputs": [],
   "source": [
    "xsecs = {('~CHI1', '~CHI1~') : [], ('LQ', 'LQ~') : [], ('LQ', 'TA') : [], ('LQ~', 'TA') : []}\n",
    "brPIDs = {r'BR($S_1 \\to \\tau + c$)' : [42,15,4], \n",
    "       r'BR($S_1 \\to \\nu + b$)' : [42,5,16], \n",
    "       r'BR($S_1 \\to \\tau + t$)' : [42,15,6],  \n",
    "       r'BR($S_1 \\to \\chi_1 + \\chi_0$)' : [42,5000521,5000522],\n",
    "       r'BR($\\chi_1 \\to \\chi_0 + \\chi_0 + \\tau + c$)' : [5000521,4,15,5000522],\n",
    "       r'BR($\\chi_1 \\to \\chi_0 + \\chi_0 + \\nu + b$)' : [5000521,5,16,5000522]      \n",
    "      }\n",
    "\n",
    "brs = {r'BR($S_1 \\to \\tau + c$)' : [], r'BR($S_1 \\to \\nu + b$)' : [], r'BR($S_1 \\to \\tau + c$)' : [],  \n",
    "       r'BR($S_1 \\to \\tau + t$)' : [],  r'BR($S_1 \\to \\chi_1 + \\chi_0$)' : [], \n",
    "       r'BR($\\chi_1 \\to \\chi_0 + \\chi_0 + \\tau + c$)' : [],\n",
    "       r'BR($\\chi_1 \\to \\chi_0 + \\chi_0 + \\nu + b$)' : []}\n",
    "\n",
    "for f in glob.glob(slhaFolder+'/*.slha'):\n",
    "    data = pyslha.readSLHAFile(f)\n",
    "    for fpdg in xsecs:\n",
    "        if not fpdg in data.xsections:\n",
    "            xsecs[fpdg] = 0.\n",
    "        else:\n",
    "            xsecs[fpdgs].append(data.xsections[fpdg].xsecs[0].value)\n",
    "    for br,pids in brPIDs.items():\n",
    "        decList = data.decays[pids[0]].decays\n",
    "        brVal = 0.\n",
    "        for dec in decList:\n",
    "            if sorted(dec.ids) == sorted(pids[1:]):\n",
    "                brVal = dec.br\n",
    "                break\n",
    "        brs[br].append(brVal)"
   ]
  },
  {
   "cell_type": "markdown",
   "metadata": {},
   "source": [
    "### Plot 13 TeV Curves"
   ]
  },
  {
   "cell_type": "code",
   "execution_count": 25,
   "metadata": {},
   "outputs": [
    {
     "data": {
      "text/plain": [
       "{('~CHI1', '~CHI1~'): 0.065509,\n",
       " ('LQ', 'LQ~'): 0.0043011,\n",
       " ('LQ', 'TA'): 9.9273e-05,\n",
       " ('LQ~', 'TA'): 9.9034e-05}"
      ]
     },
     "execution_count": 25,
     "metadata": {},
     "output_type": "execute_result"
    }
   ],
   "source": [
    "xsecs"
   ]
  },
  {
   "cell_type": "code",
   "execution_count": null,
   "metadata": {},
   "outputs": [],
   "source": []
  }
 ],
 "metadata": {
  "kernelspec": {
   "display_name": "Python 3",
   "language": "python",
   "name": "python3"
  },
  "language_info": {
   "codemirror_mode": {
    "name": "ipython",
    "version": 3
   },
   "file_extension": ".py",
   "mimetype": "text/x-python",
   "name": "python",
   "nbconvert_exporter": "python",
   "pygments_lexer": "ipython3",
   "version": "3.6.7"
  }
 },
 "nbformat": 4,
 "nbformat_minor": 2
}
