{
 "cells": [
  {
   "cell_type": "code",
   "execution_count": 1,
   "metadata": {},
   "outputs": [],
   "source": [
    "import os,sys\n",
    "smodelsPath = os.path.expanduser('~/smodels')\n",
    "sys.path.append(smodelsPath)\n",
    "from smodels.experiment.databaseObj import Database\n",
    "from smodels.tools.physicsUnits import GeV\n",
    "import numpy as np\n",
    "from scipy.spatial import ConvexHull\n",
    "import matplotlib.pyplot as plt\n",
    "from matplotlib.colors import LogNorm\n",
    "import seaborn as sns\n",
    "from scipy.special import kn,zetac\n",
    "sns.set() #Set style\n",
    "sns.set_style('ticks',{'font.family':'serif', 'font.serif':'Times New Roman'})\n",
    "sns.set_context('paper', font_scale=1.8)\n",
    "sns.set_palette(sns.color_palette(\"Paired\"))\n",
    "cm = plt.cm.get_cmap('RdYlBu')"
   ]
  },
  {
   "cell_type": "code",
   "execution_count": 2,
   "metadata": {},
   "outputs": [],
   "source": [
    "db = Database(os.path.abspath('../../../../'))"
   ]
  },
  {
   "cell_type": "code",
   "execution_count": 3,
   "metadata": {},
   "outputs": [
    {
     "name": "stdout",
     "output_type": "stream",
     "text": [
      "CMS-EXO-13-006: c000,c100,c200,c300(4):THSCPM1b,THSCPM2b,THSCPM3,THSCPM4,THSCPM5,THSCPM6,THSCPM7,THSCPM8,THSCPM9(9)\n"
     ]
    }
   ],
   "source": [
    "exp = db.getExpResults(analysisIDs = 'CMS-EXO-13-006', dataTypes = 'efficiencyMap')[0]\n",
    "print(exp)"
   ]
  },
  {
   "cell_type": "markdown",
   "metadata": {},
   "source": [
    "### Use the trimmed database to interpolate over all original map points"
   ]
  },
  {
   "cell_type": "code",
   "execution_count": null,
   "metadata": {},
   "outputs": [
    {
     "name": "stdout",
     "output_type": "stream",
     "text": [
      "THSCPM1b\n",
      "THSCPM2b\n",
      "THSCPM3\n",
      "THSCPM4\n",
      "THSCPM5\n",
      "THSCPM6\n",
      "THSCPM7\n"
     ]
    }
   ],
   "source": [
    "datasetNames = ['c000','c100','c200','c300']\n",
    "txNames = ['THSCPM1b','THSCPM2b','THSCPM3','THSCPM4','THSCPM5', 'THSCPM6','THSCPM7','THSCPM8','THSCPM9']\n",
    "txNames = ['THSCPM1b','THSCPM2b','THSCPM3','THSCPM4','THSCPM5', 'THSCPM6','THSCPM7','THSCPM8']\n",
    "# txNames = ['THSCPM5']\n",
    "\n",
    "resultsDict = {}\n",
    "massDict = {}\n",
    "for tx in txNames:\n",
    "        \n",
    "    resultsDict[tx] = []  \n",
    "    massDict[tx] = []\n",
    "    print(tx)\n",
    "    for ds in datasetNames:\n",
    "#         print(tx,ds)\n",
    "        dataset = [dds for dds in exp.datasets if dds.dataInfo.dataId == ds][0]\n",
    "        txname = [t for t in dataset.txnameList if t.txName == tx]\n",
    "        if not txname:\n",
    "            continue\n",
    "        txname = txname[0]\n",
    "        results = []\n",
    "        massList = []\n",
    "\n",
    "        data = np.genfromtxt('%s_efficiencyMaps_%s.dat' %(tx,ds),names=True)\n",
    "        #For maps without the width information use only the zero width points in the original maps\n",
    "#         if tx in ['THSCPM5', 'THSCPM6','THSCPM7']:\n",
    "#             data = data[data['width'] == data['width'].min()]\n",
    "                    \n",
    "        \n",
    "        for pt in data:\n",
    "            massList.append([pt[mlabel] for mlabel in ['mprod','mint','mhscp'] if mlabel in data.dtype.names])\n",
    "            masses = [pt[mlabel]*GeV for mlabel in ['mprod','mint','mhscp'] if mlabel in data.dtype.names]\n",
    "#             if max(masses) > 3000*GeV:continue\n",
    "            width = 0.0\n",
    "            if 'width' in data.dtype.names:\n",
    "                width = pt['width']\n",
    "             \n",
    "            mass = masses[:]            \n",
    "            mass[-1] = tuple([mass[-1],width*GeV])\n",
    "            if tx == 'THSCPM7':\n",
    "                mass = [mass[:],[mass[0],mass[-1]]]\n",
    "            else:\n",
    "                mass = [mass]*2\n",
    "\n",
    "            eff = pt[ds]\n",
    "            effInterp = txname.txnameData.getValueFor(mass)\n",
    "            #Apply reweighting for these topologies:\n",
    "            if tx in ['THSCPM5', 'THSCPM6','THSCPM7']:\n",
    "                widths = []\n",
    "                for ibr,br in enumerate(mass):\n",
    "                    widths.append([])\n",
    "                    for iw,w in enumerate(br):\n",
    "                        if isinstance(w,tuple):\n",
    "                            widths[ibr].append(w[1])\n",
    "                        else:\n",
    "                            widths[ibr].append(float('inf')*GeV)\n",
    "                reweightFactor = txname.txnameData.reweightF(widths)\n",
    "                effInterp *= reweightFactor\n",
    "                \n",
    "            results.append([eff,effInterp,width])\n",
    "            \n",
    "        \n",
    "        resultsDict[tx] += results\n",
    "        massDict[tx] += massList\n",
    "        "
   ]
  },
  {
   "cell_type": "markdown",
   "metadata": {},
   "source": [
    "### Verify convex hull (there should be no points outside the grid)"
   ]
  },
  {
   "cell_type": "code",
   "execution_count": null,
   "metadata": {},
   "outputs": [],
   "source": [
    "for tx in resultsDict:\n",
    "    resultsDict[tx] = np.array(resultsDict[tx])\n",
    "    massDict[tx] = np.array(massDict[tx])\n",
    "    print(tx,'# points outside the grid:',len(np.where(resultsDict[tx][:,1] == None)[0]))"
   ]
  },
  {
   "cell_type": "markdown",
   "metadata": {},
   "source": [
    "### Compute relative difference for each topology"
   ]
  },
  {
   "cell_type": "code",
   "execution_count": null,
   "metadata": {},
   "outputs": [],
   "source": [
    "relDiffDict = {}\n",
    "for tx,results in resultsDict.items():\n",
    "    relDiffDict[tx] = np.zeros(len(results))\n",
    "    relDiffDict[tx] = np.divide(np.abs(results[:,1]-results[:,0]),results[:,0],where=(results[:,0]>0),\n",
    "                                out=relDiffDict[tx])"
   ]
  },
  {
   "cell_type": "markdown",
   "metadata": {},
   "source": [
    "### Plot the difference"
   ]
  },
  {
   "cell_type": "code",
   "execution_count": null,
   "metadata": {},
   "outputs": [],
   "source": [
    "nr = len([tx for tx in relDiffDict if relDiffDict[tx].max() > 1e-4])\n",
    "fig,ax = plt.subplots(nrows = int(np.ceil(nr/2.0)),ncols=2,figsize = (12,15),sharex=False)\n",
    "i = 0\n",
    "j = 0\n",
    "for tx in relDiffDict:\n",
    "    \n",
    "    cond = massDict[tx][:,-1] > 0\n",
    "    xpts = resultsDict[tx][cond][:,0]\n",
    "    ypts = relDiffDict[tx][cond]\n",
    "#     zpts = (massDict[tx][cond][:,-min(2,len(massDict[tx][0]))]-massDict[tx][cond][:,-1])\n",
    "    zpts = massDict[tx][cond][:,-1]\n",
    "    \n",
    "    axx = ax[i,j].scatter(xpts,ypts,c=zpts,vmin=0.0,vmax=3500,cmap=cm)\n",
    "    ax[i,j].set_yscale('log')\n",
    "    ax[i,j].set_xscale('log')\n",
    "    ax[i,j].set_ylim(1e-2,3e1)\n",
    "    ax[i,j].set_xlim(1e-8,1)\n",
    "#     ax[i,j].set_xticks(np.logspace(-3,3,16))\n",
    "#     ax[i,j].text(1e-3,3e4,'%s : max diff = %1.1f %%' %(tx,100*(relDiffDict[tx].max())))\n",
    "    ax[i,j].set_title('%s : %s' %('CMS-EXO-13-006',tx))\n",
    "    ax[i,j].set_xlabel(r'$\\epsilon_{Full}$')\n",
    "    ax[i,j].set_ylabel(r'$|\\epsilon_{Trim}-\\epsilon_{Full}|/\\epsilon_{Full}$')\n",
    "    ax[i,j].grid()    \n",
    "    j += 1\n",
    "    if j >= ax.shape[1]:\n",
    "        cb = fig.colorbar(axx, ax=ax[i,j-1],label=r'$m_{HSCP}$ (GeV)')\n",
    "        i += 1\n",
    "        j =0\n",
    "        \n",
    "if j == 1:\n",
    "    ax[i,1].set_axis_off()\n",
    "        \n",
    "plt.tight_layout()\n",
    "\n",
    "plt.savefig('databaseCheck.png')\n",
    "plt.show()\n",
    "\n"
   ]
  },
  {
   "cell_type": "code",
   "execution_count": null,
   "metadata": {},
   "outputs": [],
   "source": [
    "data = np.genfromtxt('THSCPM5_efficiencyMaps_c000.dat',names=True)\n",
    "res = resultsDict['THSCPM5'][:len(data)]\n",
    "diff = relDiffDict['THSCPM5'][:len(data)]"
   ]
  },
  {
   "cell_type": "code",
   "execution_count": null,
   "metadata": {},
   "outputs": [],
   "source": [
    "condDict =  {'mprod' : 3200.0, 'mint' : 3005.0, 'mhscp' : None, 'width' : None}\n",
    "condition = [True]*len(data)\n",
    "condStr = ''\n",
    "for var,val in condDict.items():\n",
    "    if val is None: continue\n",
    "    condition = condition & (data[var] == val)\n",
    "    condStr += '%s = %1.2e, ' %(var,val)\n",
    "condStr = condStr[:-2]\n",
    "\n",
    "xvar = 'mhscp'\n",
    "yvar = 'width'\n",
    "\n",
    "fig,ax = plt.subplots(nrows = 1,ncols=2,figsize = (12,4),sharey=True)\n",
    "resSlice = res[condition]\n",
    "dataSlice  = data[condition]\n",
    "\n",
    "\n",
    "\n",
    "ax[0].scatter(dataSlice[xvar],dataSlice[yvar],c=resSlice[:,0],\n",
    "            cmap=cm,vmin=resSlice[:,0].min(),vmax=resSlice[:,0].max())\n",
    "ax[0].set_yscale('log')\n",
    "ax[0].set_title('Full\\n (%s)' %condStr,fontsize=14)\n",
    "ax[0].set_ylim(1e-22,1e7)\n",
    "axx = ax[1].scatter(dataSlice[xvar],dataSlice[yvar],c=resSlice[:,1],\n",
    "            cmap=cm,vmin=resSlice[:,0].min(),vmax=resSlice[:,0].max())\n",
    "\n",
    "ax[1].set_title('Trimmed\\n (%s)' %condStr,fontsize=14)\n",
    "ax[1].set_ylim(1e-22,1e7)\n",
    "ax[0].set_ylabel(yvar)\n",
    "ax[0].set_xlabel(xvar)\n",
    "ax[1].set_xlabel(xvar)\n",
    "\n",
    "\n",
    "plt.tight_layout()\n",
    "cb = fig.colorbar(axx, ax=ax.ravel().tolist(),label=r'$\\epsilon$')\n",
    "plt.show()"
   ]
  },
  {
   "cell_type": "code",
   "execution_count": null,
   "metadata": {},
   "outputs": [],
   "source": [
    "diffSlice = diff[condition]\n",
    "plt.scatter(dataSlice[xvar],dataSlice[yvar],c=diffSlice,\n",
    "            cmap=cm,vmin=0,vmax=30)\n",
    "plt.title('Diff\\n (%s)' %condStr,fontsize=12)\n",
    "plt.xlabel(xvar)\n",
    "plt.ylabel(yvar)\n",
    "plt.yscale('log')\n",
    "plt.ylim(1e-18,1e-13)\n",
    "plt.colorbar(label=r'$\\Delta \\epsilon/\\epsilon_{Full}$')\n",
    "plt.show()"
   ]
  },
  {
   "cell_type": "code",
   "execution_count": null,
   "metadata": {},
   "outputs": [],
   "source": [
    "condDict =  {'mprod' : 3200.0, 'mint' : 3005.0, 'mhscp' : 3000.0, 'width' : None}\n",
    "condition = [True]*len(data)\n",
    "condStr = ''\n",
    "for var,val in condDict.items():\n",
    "    if val is None: continue\n",
    "    condition = condition & (data[var] == val)\n",
    "    condStr += '%s = %1.2e, ' %(var,val)\n",
    "condStr = condStr[:-2]\n",
    "\n",
    "xvar = 'width'\n",
    "\n",
    "fig,ax = plt.subplots(nrows = 1,ncols=2,figsize = (12,4))\n",
    "resSlice = res[condition]\n",
    "dataSlice  = data[condition]\n",
    "\n",
    "ax[0].plot(dataSlice[xvar],resSlice[:,0],label='Full')\n",
    "ax[0].plot(dataSlice[xvar],resSlice[:,1],label='Trimmed')\n",
    "ax[0].set_xscale('log')\n",
    "ax[0].set_yscale('log')\n",
    "ax[0].set_ylim(1e-8,1)\n",
    "ax[0].set_xlim(1e-18,1e-15)\n",
    "ax[0].legend()\n",
    "\n",
    "ax[1].plot(dataSlice[xvar],(resSlice[:,1]-resSlice[:,0])/resSlice[:,0])\n",
    "ax[1].set_xscale('log')\n",
    "ax[1].set_xlim(1e-18,1e-15)\n",
    "\n",
    "\n",
    "plt.tight_layout()\n",
    "plt.show()"
   ]
  },
  {
   "cell_type": "code",
   "execution_count": null,
   "metadata": {},
   "outputs": [],
   "source": [
    "condDict =  {'mprod' : 3200.0, 'mint' : 3005.0, 'mhscp' : 2900.0, 'width' : None}\n",
    "condition = [True]*len(data)\n",
    "condStr = ''\n",
    "for var,val in condDict.items():\n",
    "    if val is None: continue\n",
    "    condition = condition & (data[var] == val)\n",
    "    condStr += '%s = %1.2e, ' %(var,val)\n",
    "condStr = condStr[:-2]\n",
    "\n",
    "xvar = 'width'\n",
    "\n",
    "fig,ax = plt.subplots(nrows = 1,ncols=2,figsize = (12,4))\n",
    "resSlice = res[condition]\n",
    "dataSlice  = data[condition]\n",
    "ax[0].plot(dataSlice[xvar],resSlice[:,0],label='Full')\n",
    "ax[0].plot(dataSlice[xvar],resSlice[:,1],label='Trimmed')\n",
    "ax[0].set_xscale('log')\n",
    "ax[0].set_yscale('log')\n",
    "ax[0].set_ylim(1e-8,1)\n",
    "ax[0].set_xlim(1e-18,1e-15)\n",
    "ax[0].legend()\n",
    "\n",
    "ax[1].plot(dataSlice[xvar],(resSlice[:,1]-resSlice[:,0])/resSlice[:,0])\n",
    "ax[1].set_xscale('log')\n",
    "ax[1].set_xlim(1e-18,1e-15)\n",
    "\n",
    "\n",
    "plt.tight_layout()\n",
    "plt.show()"
   ]
  },
  {
   "cell_type": "code",
   "execution_count": null,
   "metadata": {},
   "outputs": [],
   "source": [
    "condDict =  {'mprod' : 3200.0, 'mint' : 3005.0, 'mhscp' : 2800.0, 'width' : None}\n",
    "condition = [True]*len(data)\n",
    "condStr = ''\n",
    "for var,val in condDict.items():\n",
    "    if val is None: continue\n",
    "    condition = condition & (data[var] == val)\n",
    "    condStr += '%s = %1.2e, ' %(var,val)\n",
    "condStr = condStr[:-2]\n",
    "\n",
    "xvar = 'width'\n",
    "\n",
    "fig,ax = plt.subplots(nrows = 1,ncols=2,figsize = (12,4))\n",
    "resSlice = res[condition]\n",
    "dataSlice  = data[condition]\n",
    "ax[0].plot(dataSlice[xvar],resSlice[:,0],label='Full')\n",
    "ax[0].plot(dataSlice[xvar],resSlice[:,1],label='Trimmed')\n",
    "ax[0].set_xscale('log')\n",
    "ax[0].set_yscale('log')\n",
    "ax[0].set_ylim(1e-8,1)\n",
    "ax[0].set_xlim(1e-18,1e-15)\n",
    "ax[0].legend()\n",
    "\n",
    "ax[1].plot(dataSlice[xvar],(resSlice[:,1]-resSlice[:,0])/resSlice[:,0])\n",
    "ax[1].set_xscale('log')\n",
    "ax[1].set_xlim(1e-18,1e-15)\n",
    "\n",
    "\n",
    "plt.tight_layout()\n",
    "plt.show()"
   ]
  },
  {
   "cell_type": "code",
   "execution_count": null,
   "metadata": {},
   "outputs": [],
   "source": []
  },
  {
   "cell_type": "code",
   "execution_count": null,
   "metadata": {},
   "outputs": [],
   "source": []
  }
 ],
 "metadata": {
  "kernelspec": {
   "display_name": "Python 3",
   "language": "python",
   "name": "python3"
  },
  "language_info": {
   "codemirror_mode": {
    "name": "ipython",
    "version": 3
   },
   "file_extension": ".py",
   "mimetype": "text/x-python",
   "name": "python",
   "nbconvert_exporter": "python",
   "pygments_lexer": "ipython3",
   "version": "3.8.2"
  }
 },
 "nbformat": 4,
 "nbformat_minor": 4
}
